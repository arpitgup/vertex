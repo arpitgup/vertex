{
 "cells": [
  {
   "cell_type": "code",
   "execution_count": 5,
   "id": "cdbf8c9f-2cf9-48f7-85dd-247820d5df9b",
   "metadata": {},
   "outputs": [],
   "source": [
    "import csv\n",
    "from google.cloud import storage\n",
    "\n",
    "client = storage.Client()\n",
    "bucket = client.get_bucket('archive_auto')\n",
    "blob = bucket.get_blob('a1.csv')\n",
    "blob.download_to_filename('a1.csv')\n",
    "blob2 = bucket.get_blob('a2.csv')\n",
    "blob.download_to_filename('a2.csv')\n",
    "blob = bucket.get_blob('a3.csv')\n",
    "blob.download_to_filename('a3.csv')\n",
    "blob = bucket.get_blob('a4.csv')\n",
    "blob.download_to_filename('a4.csv')\n",
    "blob = bucket.get_blob('a5.csv')\n",
    "blob.download_to_filename('a5.csv')\n",
    "blob = bucket.get_blob('a6.csv')\n",
    "blob.download_to_filename('a6.csv')\n",
    "csvs = [\"a1.csv\", \"a2.csv\",\"a3.csv\",\"a4.csv\",\"a5.csv\",\"a6.csv\"]\n",
    "writer = csv.writer(open('autotelemetry.csv', 'wt'))\n",
    "for x in csvs:\n",
    "    with open(x, \"rt\") as files:\n",
    "        reader = csv.reader(files)\n",
    "        next(reader, None)\n",
    "        for data in reader:\n",
    "            writer.writerow(data)\n",
    "\n",
    "blob = bucket.blob(\"autotelemetry.csv\")\n",
    "blob.upload_from_filename(\"autotelemetry.csv\")"
   ]
  },
  {
   "cell_type": "code",
   "execution_count": null,
   "id": "b031d89e-22a6-480c-a62b-1e17a3ba14ae",
   "metadata": {},
   "outputs": [],
   "source": []
  }
 ],
 "metadata": {
  "environment": {
   "name": "common-cpu.m80",
   "type": "gcloud",
   "uri": "gcr.io/deeplearning-platform-release/base-cpu:m80"
  },
  "kernelspec": {
   "display_name": "Python 3",
   "language": "python",
   "name": "python3"
  },
  "language_info": {
   "codemirror_mode": {
    "name": "ipython",
    "version": 3
   },
   "file_extension": ".py",
   "mimetype": "text/x-python",
   "name": "python",
   "nbconvert_exporter": "python",
   "pygments_lexer": "ipython3",
   "version": "3.7.10"
  }
 },
 "nbformat": 4,
 "nbformat_minor": 5
}
